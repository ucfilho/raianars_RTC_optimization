{
  "nbformat": 4,
  "nbformat_minor": 0,
  "metadata": {
    "colab": {
      "name": "RTC_DE_v_11_mar_17_2020.ipynb",
      "provenance": [],
      "collapsed_sections": [],
      "include_colab_link": true
    },
    "kernelspec": {
      "name": "python3",
      "display_name": "Python 3"
    }
  },
  "cells": [
    {
      "cell_type": "markdown",
      "metadata": {
        "id": "view-in-github",
        "colab_type": "text"
      },
      "source": [
        "<a href=\"https://colab.research.google.com/github/ucfilho/raianars_RTC_optimization/blob/master/RTC_DE_v_11_mar_17_2020.ipynb\" target=\"_parent\"><img src=\"https://colab.research.google.com/assets/colab-badge.svg\" alt=\"Open In Colab\"/></a>"
      ]
    },
    {
      "cell_type": "code",
      "metadata": {
        "id": "wGzR2VpcZHYA",
        "colab_type": "code",
        "colab": {}
      },
      "source": [
        "import pandas as pd\n",
        "from scipy.optimize import differential_evolution\n",
        "import numpy as np\n",
        "import matplotlib.pyplot as plt"
      ],
      "execution_count": 0,
      "outputs": []
    },
    {
      "cell_type": "code",
      "metadata": {
        "id": "2htdoQZEvKVl",
        "colab_type": "code",
        "colab": {}
      },
      "source": [
        "# Functions used in this code\n",
        "# buildMatriz(x): return three slots (Ind_I,Ind_J,deltaT)\n",
        "#                 the function also returns the Tout, Tion\n",
        "#                 Tout and Tin temperatures of particle in each stage\n",
        "#                 Ind_I,Ind_J represents streams (hot i and cold j)\n",
        "#                 deltaT represents hot temperature changing\n",
        "# Temperatura_Carga(mCp,Ind_I,Ind_J,deltaT,Tin,Tout):\n",
        "#                 return temperatures of particles after gain or loss of energy\n",
        "#                 return heat load of particles after gain or loss of energy\n",
        "#                 return error to apply penalty (error=1 is penalty)\n",
        "# Area(U,Tin,Tout,Ind_I,Ind_J,deltaT):\n",
        "#                 return Area of heat exchanger used in heat and cold  streams\n",
        "# Utilidades(tempAlvo,Tout,mCp):\n",
        "#                 return Area of heat exchanger using utilities\n",
        "#                 return the kW of utilities used\n",
        "# CustoProcesso(Area,Utilidades,cargaUFtodas,cargaUQtodas):\n",
        "#                 return the cost composed by use of utilities and depreciation \n",
        "#                 of heat exchangers\n",
        "# FUN(x): return the cost\n",
        "#                integrate the use of all functions described above\n",
        "# Variables used in this code:\n",
        "# x: population of particles\n",
        "# NPAR: number of particles\n",
        "# Trocas: number of exchanges allowed between the streams\n",
        "# mCp=[4,2,1.5,3] #[kW/K]\n",
        "# tempInicial initial temperature in each strem (kelvin)\n",
        "# tempAlvo target of temperatures to be reached by each stream\n",
        "# cost function to be optimized\n",
        "# mCp heat capacity of stream (composed by flux multiplied by Cp)"
      ],
      "execution_count": 0,
      "outputs": []
    },
    {
      "cell_type": "code",
      "metadata": {
        "id": "MjqwkVE67u2g",
        "colab_type": "code",
        "outputId": "6b706ba0-debb-4f0d-c571-39d1ff7202fa",
        "colab": {
          "base_uri": "https://localhost:8080/",
          "height": 71
        }
      },
      "source": [
        "!git clone https://github.com/ucfilho/raianars_RTC_optimization #clonar do Github\n",
        "%cd raianars_RTC_optimization\n",
        "import de_bounds_matriz"
      ],
      "execution_count": 3,
      "outputs": [
        {
          "output_type": "stream",
          "text": [
            "fatal: destination path 'raianars_RTC_optimization' already exists and is not an empty directory.\n",
            "/content/raianars_RTC_optimization\n"
          ],
          "name": "stdout"
        }
      ]
    },
    {
      "cell_type": "code",
      "metadata": {
        "id": "QH4J60cSP2OX",
        "colab_type": "code",
        "colab": {}
      },
      "source": [
        "def buildMatriz(x):\n",
        "  global Trocas, tempInicial, tempAtual \n",
        "  NPAR=1\n",
        "  cols=len(tempInicial)\n",
        "  size=3*cols\n",
        "  x=np.array(x).reshape(1,size)\n",
        "  # print('x=');print(x)\n",
        "  Ind_I=np.zeros((NPAR,Trocas)).astype(np.int64)\n",
        "  Ind_J=np.zeros((NPAR,Trocas)).astype(np.int64)\n",
        "  Tin=np.zeros((NPAR,Trocas))\n",
        "  Tout=np.zeros((NPAR,Trocas))\n",
        "  deltaT=np.zeros((NPAR,Trocas))\n",
        "  for i in range(NPAR):\n",
        "    for j in range(Trocas):\n",
        "      #print('[i,j]=%d %d'%(i,j))\n",
        "      Ind_I[i,j]=round(x[i,j])\n",
        "      Ind_J[i,j]=round(x[i,j+Trocas])\n",
        "      deltaT[i,j]=x[i,j+2*Trocas] \n",
        "    for jj in range(cols):\n",
        "      Tin[i,jj]=tempInicial[jj]\n",
        "      Tout[i,jj]=tempAtual[jj]\n",
        "  return Ind_I,Ind_J,deltaT, Tin, Tout"
      ],
      "execution_count": 0,
      "outputs": []
    },
    {
      "cell_type": "code",
      "metadata": {
        "id": "Ha_XxG-tT7yB",
        "colab_type": "code",
        "colab": {}
      },
      "source": [
        "def Temperatura_Carga(mCp,Ind_I,Ind_J,deltaT,Tin,Tout):\n",
        "  global Trocas\n",
        "  \n",
        "  NPAR=1\n",
        "  cargaTermica=np.zeros((NPAR,Trocas))\n",
        "  contador=0\n",
        "  cont_uso=0\n",
        "  erro=np.zeros((NPAR)) # valor erro se torna erro=1 quando ha algum erro e vai penalizar\n",
        "  for ki in range(NPAR):\n",
        "    for kj in range(Trocas):\n",
        "      Tin=np.copy(Tout)\n",
        "      k=kj\n",
        "      i=Ind_I[ki,kj]\n",
        "      j=Ind_J[ki,kj]\n",
        "      cargaTermica[ki,kj]=mCp[i]*deltaT[ki,kj]\n",
        "      tempSaidaQ=Tin[ki,i]+deltaT[ki,kj]\n",
        "      tempSaidaF=-cargaTermica[ki,kj]/(mCp[j])+Tout[ki,j]\n",
        "      flag=0 # flag : indica que nao entra no teste logico\n",
        "      # usei flag no lugar q ifs pq a identacao ficou melhor assim\n",
        "      if(Tin[ki,i] > Tin[ki,j]): #Tquente maior Tfria: vaores atuais\n",
        "        if(tempSaidaQ > tempSaidaF): #Tquente maior Tfria: saidas\n",
        "          flag=1\n",
        "      if(flag>0):\n",
        "        Tout[ki,i]=tempSaidaQ\n",
        "        Tout[ki,j]=tempSaidaF\n",
        "      else:\n",
        "        erro[ki]=1\n",
        "\n",
        "  return Tout,cargaTermica,erro"
      ],
      "execution_count": 0,
      "outputs": []
    },
    {
      "cell_type": "code",
      "metadata": {
        "id": "UJGjsc_haGya",
        "colab_type": "code",
        "colab": {}
      },
      "source": [
        "def Area(U,Tin,Tout,Ind_I,Ind_J,deltaT):\n",
        "\n",
        "  global Trocas,mCp\n",
        "  \n",
        "  NPAR=1\n",
        "  \n",
        "  Area=[]\n",
        "\n",
        "  for ki in range(NPAR):\n",
        "    Area_Particula=[]\n",
        "    for kj in range(Trocas):\n",
        "      i=Ind_I[ki,kj]\n",
        "      j=Ind_J[ki,kj]\n",
        "      Carga=mCp[i]*deltaT[ki,kj]\n",
        "      tempSaidaF=Tout[ki,j]\n",
        "      tempSaidaQ=Tout[ki,i]\n",
        "      deltaT1=Tin[ki,i]-tempSaidaF\n",
        "      deltaT2=tempSaidaQ-Tin[ki,j]\n",
        "      try:\n",
        "        A=(deltaT1-deltaT2)\n",
        "        B=np.log((deltaT1/deltaT2))\n",
        "        deltaTMediaLog=A/B\n",
        "      except:\n",
        "        deltaTMediaLog=1e99\n",
        "  \n",
        "      if(deltaTMediaLog==1e99):\n",
        "        AreaCalc=1e99\n",
        "      else:\n",
        "        AreaCalc=abs(Carga/(U*deltaTMediaLog))\n",
        "      \n",
        "      if(Tout[ki,i]==Tin[ki,i]):\n",
        "            AreaCalc=0\n",
        "\n",
        "      if(Tout[ki,j]==Tin[ki,j]):\n",
        "        AreaCalc=0\n",
        "\n",
        "      Area_Particula.append(AreaCalc)\n",
        "      \n",
        "    Area.append(Area_Particula)\n",
        "\n",
        "  return Area"
      ],
      "execution_count": 0,
      "outputs": []
    },
    {
      "cell_type": "code",
      "metadata": {
        "id": "oJ7p1UbEHs4c",
        "colab_type": "code",
        "colab": {}
      },
      "source": [
        "def Utilidades(tempAlvo,Tout,mCp):\n",
        "\n",
        "  cols=len(mCp)\n",
        "  NPAR=1\n",
        "\n",
        "  \n",
        "  '''\n",
        "  caso I cita TUQin=553 e TQout=552, TUFin=303 TUFout=353\n",
        "  '''\n",
        "  \n",
        "  TUQin=553\n",
        "  TUQout=552\n",
        "  TUFin=303 \n",
        "  TUFout=353\n",
        "  \n",
        "  Areas=[]\n",
        "  cargaUQtodas=[]\n",
        "  cargaUFtodas=[]\n",
        "\n",
        "  for ki in range(NPAR):\n",
        "    areaTrocador=[]\n",
        "    cargaUQ=0\n",
        "    cargaUF=0\n",
        "    for j in range(cols):\n",
        "      delta=tempAlvo[j]-Tout[ki,j]\n",
        "      if(delta>0):#usa UQ\n",
        "        cargaUQ=cargaUQ+mCp[j]*delta\n",
        "        deltaT1=(TUQin-tempAlvo[j])\n",
        "        deltaT2=(TUQout-Tout[ki,j])\n",
        "\n",
        "        try:\n",
        "          A=deltaT1-deltaT2\n",
        "          B=np.log(deltaT1/deltaT2)\n",
        "          deltaTMediaLog=A/B\n",
        "        except:\n",
        "          deltaTMediaLog=1e99\n",
        "\n",
        "        if(deltaTMediaLog==1e99):\n",
        "          areaTrocador.append(1e99)\n",
        "        else:\n",
        "          areaTrocador.append((abs(mCp[j]*(delta)/(U*deltaTMediaLog))))\n",
        "\n",
        "      elif(delta==0):#nao usa UF e UQ\n",
        "        deltaTMediaLog=0\n",
        "        areaTrocador.append(0) \n",
        "\n",
        "      else:#usa UF\n",
        "        deltaT1=(Tout[ki,j]-TUFout)\n",
        "        deltaT2=(tempAlvo[j]-TUFin)     \n",
        "        cargaUF=cargaUF+mCp[j]*(-delta)\n",
        "\n",
        "        #UF -> água resfriada -> entra a 303K e sai a 353K\n",
        "        try:\n",
        "          A=deltaT1-deltaT2\n",
        "          B=np.log(deltaT1/deltaT2)\n",
        "          deltaTMediaLog=A/B\n",
        "        except:\n",
        "          deltaTMediaLog=1e99\n",
        "        \n",
        "        if(deltaTMediaLog==1e99):\n",
        "          areaTrocador.append(1e99)\n",
        "        else:\n",
        "          areaTrocador.append((abs(mCp[j]*(-delta)/(U*deltaTMediaLog))))\n",
        "\n",
        "    cargaUQtodas.append(cargaUQ)\n",
        "    cargaUFtodas.append(cargaUF)\n",
        "\n",
        "    Areas.append(areaTrocador)\n",
        "\n",
        "  return Areas, cargaUQtodas,cargaUFtodas \n"
      ],
      "execution_count": 0,
      "outputs": []
    },
    {
      "cell_type": "code",
      "metadata": {
        "id": "_vAVl672mXZb",
        "colab_type": "code",
        "colab": {}
      },
      "source": [
        "def CustoProcesso(Area,Utilidades,cargaUFtodas,cargaUQtodas):\n",
        "  global coefCustoUQ,coefCustoUF\n",
        "  \n",
        "  NPAR=1\n",
        "\n",
        "  cost=np.zeros((NPAR))\n",
        "  for i in range(NPAR):\n",
        "    cargaUQ=cargaUQtodas[i]\n",
        "    cargaUF=cargaUFtodas[i]\n",
        "    areaTrocadores=Area[i]\n",
        "    areaUtilidades=Utilidades[i]\n",
        "    costTrocadores=0\n",
        "    for it in areaTrocadores:\n",
        "      for wii in areaUtilidades:\n",
        "        if(it<1e99):\n",
        "          if(wii<1e99):\n",
        "            costTrocadores=costTrocadores+300*(it**0.5+wii**0.5)\n",
        "          else:\n",
        "            costTrocadores=1e99\n",
        "            break\n",
        "    costUQ=coefCustoUQ*cargaUQ\n",
        "    costUF=coefCustoUF*cargaUF\n",
        "    \n",
        "    if(costTrocadores==1e99):\n",
        "      cost[i]=1e99\n",
        "    else:\n",
        "      cost[i]=costUQ+costUF+costTrocadores\n",
        "      \n",
        "  return cost"
      ],
      "execution_count": 0,
      "outputs": []
    },
    {
      "cell_type": "code",
      "metadata": {
        "id": "Xp_PM3d9CDTA",
        "colab_type": "code",
        "colab": {}
      },
      "source": [
        "def Numb(x):\n",
        "  global mCp,tempAlvo,tempInicial,Trocas\n",
        "  global HOT,COLD\n",
        "  HOT=[]\n",
        "  COLD=[]\n",
        "  Ind_I,Ind_J,deltaT,Tin, Tout=buildMatriz(x) # transforma x em matriz logica e troca\n",
        "  Tatual=np.copy(np.array(tempInicial))\n",
        "  #print(Tatual)\n",
        "  rows=Trocas \n",
        "  cols=len(mCp)\n",
        "  Ttrocas=np.zeros((rows+4,cols))# feito em quaduplicata so para melhorar o visual\n",
        "  for i in range(2):\n",
        "    for j in range(cols):\n",
        "      Ttrocas[i,j]=np.copy(Tatual[j])\n",
        "  cont=1\n",
        "  #Ttrocas.append(Tatual)\n",
        "  #Ttrocas.append(Tatual) # feito em duplicata so para melhorar o visual\n",
        "  for k in range(Trocas):\n",
        "    cont=cont+1\n",
        "    i=Ind_I[0,k]\n",
        "    j=Ind_J[0,k]\n",
        "    tempSaidaQ=Tatual[i]+deltaT[0,k]\n",
        "    tempSaidaF=-deltaT[0,k]*mCp[i]/(mCp[j])+Tatual[j]\n",
        "    HOT.append(tempSaidaQ)\n",
        "    COLD.append(tempSaidaF)\n",
        "    Tatual[i]=np.copy(tempSaidaQ)\n",
        "    Tatual[j]=np.copy(tempSaidaF)\n",
        "    #for ik in range(cols):\n",
        "    #  Trocas[cont,ik]=Tatual[ik]\n",
        "    for jj in range(cols):\n",
        "      Ttrocas[cont,jj]=Tatual[jj]  \n",
        "    #print(Trocas)\n",
        "    #print(pd.DataFrame(Trocas))\n",
        "    \n",
        "  #Ttrocas.append(tempAlvo)\n",
        "  for jj in range(cols): # feito em duplicata so para melhorar o visual\n",
        "    Ttrocas[cont+1,jj]=tempAlvo[jj]\n",
        "    Ttrocas[cont+2,jj]=tempAlvo[jj]\n",
        "  #Ttrocas.append(tempAlvo) \n",
        "  \n",
        "  return Ttrocas\n"
      ],
      "execution_count": 0,
      "outputs": []
    },
    {
      "cell_type": "code",
      "metadata": {
        "id": "lmPfZ7arakM1",
        "colab_type": "code",
        "colab": {}
      },
      "source": [
        "#FUN calcula o TAC para um determinado arranjo\n",
        "#  cada calculo é feito em uma funcao a parte Fun usa todas funcoes \n",
        "\n",
        "def FUN(x):\n",
        "\n",
        "  global mCp,tempAtual,tempAlvo,tempInicial,U,coefCustoUQ,coefCustoUF\n",
        "  \n",
        "  NPAR=1\n",
        "  \n",
        "  funr=np.zeros((NPAR))\n",
        "  cols=len(mCp)\n",
        "  Ind_I,Ind_J,deltaT, Tin, Tout=buildMatriz(x) # transforma x em matriz logica e troca\n",
        "  Tout,Carga,Erro=Temperatura_Carga(mCp,Ind_I,Ind_J,deltaT,Tin,Tout)\n",
        "  areaTrocadores =Area(U,Tin,Tout,Ind_I,Ind_J,deltaT)\n",
        "  areaUtilidade, cargaUQ,cargaUF = Utilidades(tempAlvo,Tout,mCp)\n",
        "  cost=CustoProcesso(areaTrocadores,areaUtilidade,cargaUF,cargaUQ)\n",
        "  funr=cost\n",
        "\n",
        "  for k in range(NPAR):\n",
        "    if(Erro[k]>0):\n",
        "      funr[k]=1e99\n",
        "  funr = np.where(np.isnan(cost), 1e99, cost)\n",
        "  \n",
        "  # print(funr)\n",
        "\n",
        "  return funr "
      ],
      "execution_count": 0,
      "outputs": []
    },
    {
      "cell_type": "code",
      "metadata": {
        "id": "Dt6anZvATxzg",
        "colab_type": "code",
        "colab": {}
      },
      "source": [
        "#********************PROGRAMA PRINCIPAL*************************\n",
        "NPAR=100\n",
        "Trocas=4\n",
        "mCp=[4,2,1.5,3] #[kW/K]\n",
        "tempInicial=[453.0,393.0,523.0,533.0] #[K]\n",
        "tempAtual=np.copy(tempInicial) \n",
        "#tempAtual=[453,393,523,533] #[K]\n",
        "tempAlvo=[513.0,508.0,403.0,433.0] #[K]\n",
        "U=0.2 #[kW/(m2.K)]\n",
        "coefCustoUQ=110 #[$/(kW.ano)]\n",
        "coefCustoUF=12.2 #[$/(kW.ano)]\n",
        "\n",
        "\n",
        "\n",
        "\n",
        "cols=12\n",
        "x=np.zeros((NPAR,cols))\n",
        "MAX=np.array([3,3,3,3,1,1,1,1,0,0,0,0])\n",
        "MIN=np.array([2,2,2,2,0,0,0,0,-100,-100,-100,-100])\n",
        "#MAX=np.array([3,3,3,3,3,3,3,3,0,0,0,0])\n",
        "#MIN=np.array([0,0,0,0,0,0,0,0,-100,-100,-100,-100])\n",
        "#MAX=np.array([3,2,3,2,1,1,1,1,0,0,0,0])\n",
        "#MIN=np.array([3,2,3,2,1,1,1,1,-100,-100,-100,-100])\n",
        "#MAX=np.array([3,3,3,3,1,1,1,1,0,0,0,0])\n",
        "#MIN=np.array([2,2,2,2,0,0,0,0,-100,-100,-100,-100])\n",
        "#MIN=np.array([2,2,2,2,0,0,0,0,-40,-40,-40,-40])\n",
        "\n",
        "for i in range(NPAR):\n",
        "  for j in range(cols):\n",
        "    r=np.random.random()\n",
        "    x[i,j]=r*(MAX[j]-MIN[j])+MIN[j]\n",
        "\n",
        "\n",
        "\n",
        "bounds=[]\n",
        "for k in range(len(MAX)):\n",
        "  bounds.append((MIN[k],MAX[k]))\n",
        "\n",
        "\n",
        "# print(bounds)\n",
        "\n"
      ],
      "execution_count": 0,
      "outputs": []
    },
    {
      "cell_type": "code",
      "metadata": {
        "id": "98ebmeBd6e5L",
        "colab_type": "code",
        "outputId": "aabca030-7ea3-4425-c2e9-c2556c13d12a",
        "colab": {
          "base_uri": "https://localhost:8080/",
          "height": 71
        }
      },
      "source": [
        "fobj=FUN\n",
        "mut=0.5\n",
        "crossp=0.5\n",
        "its=200\n",
        "x,BEST,FOBEST,XY,BEST_XY=de_bounds_matriz.de(bounds, mut, crossp, \n",
        "                                             NPAR, its,fobj,x)"
      ],
      "execution_count": 12,
      "outputs": [
        {
          "output_type": "stream",
          "text": [
            "/usr/local/lib/python3.6/dist-packages/ipykernel_launcher.py:22: RuntimeWarning: invalid value encountered in double_scalars\n",
            "/usr/local/lib/python3.6/dist-packages/ipykernel_launcher.py:21: RuntimeWarning: invalid value encountered in log\n"
          ],
          "name": "stderr"
        }
      ]
    },
    {
      "cell_type": "code",
      "metadata": {
        "id": "aIEq0IrCBVPm",
        "colab_type": "code",
        "outputId": "be6f1a86-74cd-4af0-8361-dbce502816a0",
        "colab": {
          "base_uri": "https://localhost:8080/",
          "height": 51
        }
      },
      "source": [
        "print('FOBEST=');print(FOBEST)"
      ],
      "execution_count": 13,
      "outputs": [
        {
          "output_type": "stream",
          "text": [
            "FOBEST=\n",
            "[33466.06961367]\n"
          ],
          "name": "stdout"
        }
      ]
    },
    {
      "cell_type": "code",
      "metadata": {
        "id": "dKx9C1kcDLph",
        "colab_type": "code",
        "outputId": "3722175d-a57a-4f55-c04b-6bf039e86fcc",
        "colab": {
          "base_uri": "https://localhost:8080/",
          "height": 68
        }
      },
      "source": [
        "print(BEST)"
      ],
      "execution_count": 14,
      "outputs": [
        {
          "output_type": "stream",
          "text": [
            "[  2.61741308   2.69176969   2.92805462   2.48642051   0.14108775\n",
            "   0.120481     0.56672731   0.79097869 -27.70616301 -15.50149801\n",
            " -38.23884234 -32.48144864]\n"
          ],
          "name": "stdout"
        }
      ]
    },
    {
      "cell_type": "code",
      "metadata": {
        "id": "jbv10607IhAi",
        "colab_type": "code",
        "outputId": "52276936-3e2a-4894-adb2-0b75fa14d720",
        "colab": {
          "base_uri": "https://localhost:8080/",
          "height": 68
        }
      },
      "source": [
        "Ind_I,Ind_J,deltaT, Tin, Tout=buildMatriz(BEST)\n",
        "print(Ind_I)\n",
        "print(Ind_J)\n",
        "print(deltaT)\n"
      ],
      "execution_count": 15,
      "outputs": [
        {
          "output_type": "stream",
          "text": [
            "[[3 3 3 2]]\n",
            "[[0 0 1 1]]\n",
            "[[-27.70616301 -15.50149801 -38.23884234 -32.48144864]]\n"
          ],
          "name": "stdout"
        }
      ]
    },
    {
      "cell_type": "code",
      "metadata": {
        "id": "h7VYqfu-Ee7-",
        "colab_type": "code",
        "outputId": "2331167e-c1d8-4e37-9cb1-971cc1f72347",
        "colab": {
          "base_uri": "https://localhost:8080/",
          "height": 171
        }
      },
      "source": [
        "Busca=Numb(BEST)\n",
        "print(pd.DataFrame(Busca))\n",
        "df=pd.DataFrame(Busca)"
      ],
      "execution_count": 16,
      "outputs": [
        {
          "output_type": "stream",
          "text": [
            "            0           1           2           3\n",
            "0  453.000000  393.000000  523.000000  533.000000\n",
            "1  453.000000  393.000000  523.000000  533.000000\n",
            "2  473.779622  393.000000  523.000000  505.293837\n",
            "3  485.405746  393.000000  523.000000  489.792339\n",
            "4  485.405746  450.358264  523.000000  451.553497\n",
            "5  485.405746  474.719350  490.518551  451.553497\n",
            "6  513.000000  508.000000  403.000000  433.000000\n",
            "7  513.000000  508.000000  403.000000  433.000000\n"
          ],
          "name": "stdout"
        }
      ]
    },
    {
      "cell_type": "code",
      "metadata": {
        "id": "ZTCkSM3Vfh5X",
        "colab_type": "code",
        "outputId": "008fd9ed-313d-4be1-d9a4-939071feed4f",
        "colab": {
          "base_uri": "https://localhost:8080/",
          "height": 171
        }
      },
      "source": [
        "print(df)\n"
      ],
      "execution_count": 17,
      "outputs": [
        {
          "output_type": "stream",
          "text": [
            "            0           1           2           3\n",
            "0  453.000000  393.000000  523.000000  533.000000\n",
            "1  453.000000  393.000000  523.000000  533.000000\n",
            "2  473.779622  393.000000  523.000000  505.293837\n",
            "3  485.405746  393.000000  523.000000  489.792339\n",
            "4  485.405746  450.358264  523.000000  451.553497\n",
            "5  485.405746  474.719350  490.518551  451.553497\n",
            "6  513.000000  508.000000  403.000000  433.000000\n",
            "7  513.000000  508.000000  403.000000  433.000000\n"
          ],
          "name": "stdout"
        }
      ]
    },
    {
      "cell_type": "code",
      "metadata": {
        "id": "kFbC2DOWfkKC",
        "colab_type": "code",
        "outputId": "5ec84eb0-ce0b-4ff4-da99-e71ea0541911",
        "colab": {
          "base_uri": "https://localhost:8080/",
          "height": 68
        }
      },
      "source": [
        "print(HOT)\n",
        "print(COLD)\n",
        "print(tempAlvo)"
      ],
      "execution_count": 18,
      "outputs": [
        {
          "output_type": "stream",
          "text": [
            "[505.2938369919018, 489.7923389813571, 451.5534966428583, 490.51855135724475]\n",
            "[473.77962225607365, 485.40574576398217, 450.3582635077482, 474.71934998981465]\n",
            "[513.0, 508.0, 403.0, 433.0]\n"
          ],
          "name": "stdout"
        }
      ]
    },
    {
      "cell_type": "code",
      "metadata": {
        "id": "cw8YfB07MsGe",
        "colab_type": "code",
        "outputId": "a58b19d8-fd55-4740-9951-99035c209f33",
        "colab": {
          "base_uri": "https://localhost:8080/",
          "height": 300
        }
      },
      "source": [
        "\n",
        "Streams=4\n",
        "Change=range(Streams+4) # Streams+4 so para ficar com um visual melhor\n",
        "for k in range(Streams):\n",
        "  plt.plot(Change,df.iloc[:,k])\n",
        "plt.xlabel('Stages')\n",
        "plt.ylabel('Temperature (K)')\n"
      ],
      "execution_count": 19,
      "outputs": [
        {
          "output_type": "execute_result",
          "data": {
            "text/plain": [
              "Text(0, 0.5, 'Temperature (K)')"
            ]
          },
          "metadata": {
            "tags": []
          },
          "execution_count": 19
        },
        {
          "output_type": "display_data",
          "data": {
            "image/png": "[encoded data removed]",
            "text/plain": [
              "<Figure size 432x288 with 1 Axes>"
            ]
          },
          "metadata": {
            "tags": []
          }
        }
      ]
    },
    {
      "cell_type": "code",
      "metadata": {
        "id": "zvWG_MEUavUO",
        "colab_type": "code",
        "outputId": "a97afdbd-d147-4b50-f194-348c89f801b7",
        "colab": {
          "base_uri": "https://localhost:8080/",
          "height": 205
        }
      },
      "source": [
        "print(tempInicial)\n",
        "print(tempAlvo)\n",
        "print(df)"
      ],
      "execution_count": 20,
      "outputs": [
        {
          "output_type": "stream",
          "text": [
            "[453.0, 393.0, 523.0, 533.0]\n",
            "[513.0, 508.0, 403.0, 433.0]\n",
            "            0           1           2           3\n",
            "0  453.000000  393.000000  523.000000  533.000000\n",
            "1  453.000000  393.000000  523.000000  533.000000\n",
            "2  473.779622  393.000000  523.000000  505.293837\n",
            "3  485.405746  393.000000  523.000000  489.792339\n",
            "4  485.405746  450.358264  523.000000  451.553497\n",
            "5  485.405746  474.719350  490.518551  451.553497\n",
            "6  513.000000  508.000000  403.000000  433.000000\n",
            "7  513.000000  508.000000  403.000000  433.000000\n"
          ],
          "name": "stdout"
        }
      ]
    }
  ]
}