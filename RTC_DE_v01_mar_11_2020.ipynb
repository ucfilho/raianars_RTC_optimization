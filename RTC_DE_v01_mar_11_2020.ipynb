{
  "nbformat": 4,
  "nbformat_minor": 0,
  "metadata": {
    "colab": {
      "name": "RTC_DE_v01_mar_11_2020.ipynb",
      "provenance": [],
      "collapsed_sections": [],
      "include_colab_link": true
    },
    "kernelspec": {
      "name": "python3",
      "display_name": "Python 3"
    }
  },
  "cells": [
    {
      "cell_type": "markdown",
      "metadata": {
        "id": "view-in-github",
        "colab_type": "text"
      },
      "source": [
        "<a href=\"https://colab.research.google.com/github/ucfilho/raianars_RTC_optimization/blob/master/RTC_DE_v01_mar_11_2020.ipynb\" target=\"_parent\"><img src=\"https://colab.research.google.com/assets/colab-badge.svg\" alt=\"Open In Colab\"/></a>"
      ]
    },
    {
      "cell_type": "code",
      "metadata": {
        "id": "wGzR2VpcZHYA",
        "colab_type": "code",
        "colab": {}
      },
      "source": [
        "import pandas as pd\n",
        "from scipy.optimize import differential_evolution\n",
        "import numpy as np\n",
        "import matplotlib.pyplot as plt"
      ],
      "execution_count": 0,
      "outputs": []
    },
    {
      "cell_type": "code",
      "metadata": {
        "id": "2htdoQZEvKVl",
        "colab_type": "code",
        "colab": {}
      },
      "source": [
        "# Functions used in this code\n",
        "# buildMatriz(x): return three slots (Ind_I,Ind_J,deltaT)\n",
        "#                 the function also returns the Tout, Tion\n",
        "#                 Tout and Tin temperatures of particle in each stage\n",
        "#                 Ind_I,Ind_J represents streams (hot i and cold j)\n",
        "#                 deltaT represents hot temperature changing\n",
        "# Temperatura_Carga(mCp,Ind_I,Ind_J,deltaT,Tin,Tout):\n",
        "#                 return temperatures of particles after gain or loss of energy\n",
        "#                 return heat load of particles after gain or loss of energy\n",
        "#                 return error to apply penalty (error=1 is penalty)\n",
        "# Area(U,Tin,Tout,Ind_I,Ind_J,deltaT):\n",
        "#                 return Area of heat exchanger used in heat and cold  streams\n",
        "# Utilidades(tempAlvo,Tout,mCp):\n",
        "#                 return Area of heat exchanger using utilities\n",
        "#                 return the kW of utilities used\n",
        "# CustoProcesso(Area,Utilidades,cargaUFtodas,cargaUQtodas):\n",
        "#                 return the cost composed by use of utilities and depreciation \n",
        "#                 of heat exchangers\n",
        "# FUN(x): return the cost\n",
        "#                integrate the use of all functions described above\n",
        "# Variables used in this code:\n",
        "# x: population of particles\n",
        "# NPAR: number of particles\n",
        "# Trocas: number of exchanges allowed between the streams\n",
        "# mCp=[4,2,1.5,3] #[kW/K]\n",
        "# tempInicial initial temperature in each strem (kelvin)\n",
        "# tempAlvo target of temperatures to be reached by each stream\n",
        "# cost function to be optimized\n",
        "# mCp heat capacity of stream (composed by flux multiplied by Cp)"
      ],
      "execution_count": 0,
      "outputs": []
    },
    {
      "cell_type": "code",
      "metadata": {
        "id": "QH4J60cSP2OX",
        "colab_type": "code",
        "colab": {}
      },
      "source": [
        "def buildMatriz(x):\n",
        "  global Trocas,NPAR, tempInicial, tempAtual \n",
        "  cols=len(tempInicial) \n",
        "  Ind_I=np.zeros((NPAR,Trocas)).astype(np.int64)\n",
        "  Ind_J=np.zeros((NPAR,Trocas)).astype(np.int64)\n",
        "  Tin=np.zeros((NPAR,Trocas))\n",
        "  Tout=np.zeros((NPAR,Trocas))\n",
        "  deltaT=np.zeros((NPAR,Trocas))\n",
        "  for i in range(NPAR):\n",
        "    for j in range(Trocas):\n",
        "      Ind_I[i,j]=round(x[i,j])\n",
        "      Ind_J[i,j]=round(x[i,j+Trocas])\n",
        "      deltaT[i,j]=x[i,j+2*Trocas] \n",
        "    for jj in range(cols):\n",
        "      Tin[i,jj]=tempInicial[jj]\n",
        "      Tout[i,jj]=tempAtual[jj]\n",
        "  return Ind_I,Ind_J,deltaT, Tin, Tout"
      ],
      "execution_count": 0,
      "outputs": []
    },
    {
      "cell_type": "code",
      "metadata": {
        "id": "Ha_XxG-tT7yB",
        "colab_type": "code",
        "colab": {}
      },
      "source": [
        "def Temperatura_Carga(mCp,Ind_I,Ind_J,deltaT,Tin,Tout):\n",
        "  global Trocas,NPAR\n",
        "  cargaTermica=np.zeros((NPAR,Trocas))\n",
        "  contador=0\n",
        "  cont_uso=0\n",
        "  erro=np.zeros((NPAR)) # valor erro se torna erro=1 quando ha algum erro e vai penalizar\n",
        "  for ki in range(NPAR):\n",
        "    for kj in range(Trocas):\n",
        "      k=kj\n",
        "      i=Ind_I[ki,kj]\n",
        "      j=Ind_J[ki,kj]\n",
        "      cargaTermica[ki,kj]=mCp[i]*deltaT[ki,kj]\n",
        "      tempSaidaQ=Tin[ki,i]+deltaT[ki,kj]\n",
        "      tempSaidaF=-cargaTermica[ki,kj]/(mCp[j])+Tout[ki,j]\n",
        "      flag=0 # flag : indica que nao entra no teste logico\n",
        "      # usei flag no lugar q ifs pq a identacao ficou melhor assim\n",
        "      if(Tin[ki,i] > Tin[ki,j]): #Tquente maior Tfria: vaores atuais\n",
        "        if(tempSaidaQ > tempSaidaF): #Tquente maior Tfria: saidas\n",
        "          flag=1\n",
        "      if(flag>0):\n",
        "        Tout[ki,i]=tempSaidaQ\n",
        "        Tout[ki,j]=tempSaidaF\n",
        "      else:\n",
        "        erro[ki]=1\n",
        "\n",
        "  return Tout,cargaTermica,erro"
      ],
      "execution_count": 0,
      "outputs": []
    },
    {
      "cell_type": "code",
      "metadata": {
        "id": "UJGjsc_haGya",
        "colab_type": "code",
        "colab": {}
      },
      "source": [
        "def Area(U,Tin,Tout,Ind_I,Ind_J,deltaT):\n",
        "\n",
        "  global Trocas,mCp,NPAR\n",
        "  \n",
        "  Area=[]\n",
        "\n",
        "  for ki in range(NPAR):\n",
        "    Area_Particula=[]\n",
        "    for kj in range(Trocas):\n",
        "      i=Ind_I[ki,kj]\n",
        "      j=Ind_J[ki,kj]\n",
        "      Carga=mCp[i]*deltaT[ki,kj]\n",
        "      tempSaidaF=Tout[ki,j]\n",
        "      tempSaidaQ=Tout[ki,i]\n",
        "      deltaT1=Tin[ki,i]-tempSaidaF\n",
        "      deltaT2=tempSaidaQ-Tin[ki,j]\n",
        "      try:\n",
        "        A=(deltaT1-deltaT2)\n",
        "        B=np.log((deltaT1/deltaT2))\n",
        "        deltaTMediaLog=A/B\n",
        "      except:\n",
        "        deltaTMediaLog=1e99\n",
        "  \n",
        "      if(deltaTMediaLog==1e99):\n",
        "        AreaCalc=1e99\n",
        "      else:\n",
        "        AreaCalc=abs(Carga/(U*deltaTMediaLog))\n",
        "      \n",
        "      if(Tout[ki,i]==Tin[ki,i]):\n",
        "            AreaCalc=0\n",
        "\n",
        "      if(Tout[ki,j]==Tin[ki,j]):\n",
        "        AreaCalc=0\n",
        "\n",
        "      Area_Particula.append(AreaCalc)\n",
        "      \n",
        "    Area.append(Area_Particula)\n",
        "\n",
        "  return Area"
      ],
      "execution_count": 0,
      "outputs": []
    },
    {
      "cell_type": "code",
      "metadata": {
        "id": "oJ7p1UbEHs4c",
        "colab_type": "code",
        "colab": {}
      },
      "source": [
        "def Utilidades(tempAlvo,Tout,mCp):\n",
        "\n",
        "  cols=len(mCp)\n",
        "\n",
        "  \n",
        "  '''\n",
        "  caso I cita TUQin=553 e TQout=552, TUFin=303 TUFout=353\n",
        "  '''\n",
        "  \n",
        "  TUQin=553\n",
        "  TUQout=552\n",
        "  TUFin=303 \n",
        "  TUFout=353\n",
        "  \n",
        "  Areas=[]\n",
        "  cargaUQtodas=[]\n",
        "  cargaUFtodas=[]\n",
        "\n",
        "  for ki in range(NPAR):\n",
        "    areaTrocador=[]\n",
        "    cargaUQ=0\n",
        "    cargaUF=0\n",
        "    for j in range(cols):\n",
        "      delta=tempAlvo[j]-Tout[ki,j]\n",
        "      if(delta>0):#usa UQ\n",
        "        cargaUQ=cargaUQ+mCp[j]*delta\n",
        "        deltaT1=(TUQin-tempAlvo[j])\n",
        "        deltaT2=(TUQout-Tout[ki,j])\n",
        "\n",
        "        try:\n",
        "          A=deltaT1-deltaT2\n",
        "          B=np.log(deltaT1/deltaT2)\n",
        "          deltaTMediaLog=A/B\n",
        "        except:\n",
        "          deltaTMediaLog=1e99\n",
        "\n",
        "        if(deltaTMediaLog==1e99):\n",
        "          areaTrocador.append(1e99)\n",
        "        else:\n",
        "          areaTrocador.append((abs(mCp[j]*(delta)/(U*deltaTMediaLog))))\n",
        "\n",
        "      elif(delta==0):#nao usa UF e UQ\n",
        "        deltaTMediaLog=0\n",
        "        areaTrocador.append(0) \n",
        "\n",
        "      else:#usa UF\n",
        "        deltaT1=(Tout[ki,j]-TUFout)\n",
        "        deltaT2=(tempAlvo[j]-TUFin)     \n",
        "        cargaUF=cargaUF+mCp[j]*(-delta)\n",
        "\n",
        "        #UF -> água resfriada -> entra a 303K e sai a 353K\n",
        "        try:\n",
        "          A=deltaT1-deltaT2\n",
        "          B=np.log(deltaT1/deltaT2)\n",
        "          deltaTMediaLog=A/B\n",
        "        except:\n",
        "          deltaTMediaLog=1e99\n",
        "        \n",
        "        if(deltaTMediaLog==1e99):\n",
        "          areaTrocador.append(1e99)\n",
        "        else:\n",
        "          areaTrocador.append((abs(mCp[j]*(-delta)/(U*deltaTMediaLog))))\n",
        "\n",
        "    cargaUQtodas.append(cargaUQ)\n",
        "    cargaUFtodas.append(cargaUF)\n",
        "\n",
        "    Areas.append(areaTrocador)\n",
        "\n",
        "  return Areas, cargaUQtodas,cargaUFtodas \n"
      ],
      "execution_count": 0,
      "outputs": []
    },
    {
      "cell_type": "code",
      "metadata": {
        "id": "_vAVl672mXZb",
        "colab_type": "code",
        "colab": {}
      },
      "source": [
        "def CustoProcesso(Area,Utilidades,cargaUFtodas,cargaUQtodas):\n",
        "  global coefCustoUQ,coefCustoUF,NPAR\n",
        "\n",
        "  cost=np.zeros((NPAR))\n",
        "  for i in range(NPAR):\n",
        "    cargaUQ=cargaUQtodas[i]\n",
        "    cargaUF=cargaUFtodas[i]\n",
        "    areaTrocadores=Area[i]\n",
        "    areaUtilidades=Utilidades[i]\n",
        "    costTrocadores=0\n",
        "    for it in areaTrocadores:\n",
        "      for wii in areaUtilidades:\n",
        "        if(it<1e99):\n",
        "          if(wii<1e99):\n",
        "            costTrocadores=costTrocadores+300*(it**0.5+wii**0.5)\n",
        "          else:\n",
        "            costTrocadores=1e99\n",
        "            break\n",
        "    costUQ=coefCustoUQ*cargaUQ\n",
        "    costUF=coefCustoUF*cargaUF\n",
        "    \n",
        "    if(costTrocadores==1e99):\n",
        "      cost[i]=1e99\n",
        "    else:\n",
        "      cost[i]=costUQ+costUF+costTrocadores\n",
        "      \n",
        "  return cost"
      ],
      "execution_count": 0,
      "outputs": []
    },
    {
      "cell_type": "code",
      "metadata": {
        "id": "lmPfZ7arakM1",
        "colab_type": "code",
        "colab": {}
      },
      "source": [
        "#FUN calcula o TAC para um determinado arranjo\n",
        "#  cada calculo é feito em uma funcao a parte Fun usa todas funcoes \n",
        "\n",
        "def FUN(x):\n",
        "\n",
        "  global mCp,tempAtual,tempAlvo,tempInicial,U,coefCustoUQ,coefCustoUF\n",
        "  global NPAR\n",
        "  \n",
        "  funr=np.zeros((NPAR))\n",
        "  cols=len(mCp)\n",
        "  Ind_I,Ind_J,deltaT, Tin, Tout=buildMatriz(x) # transforma x em matriz logica e troca\n",
        "  Tout,Carga,Erro=Temperatura_Carga(mCp,Ind_I,Ind_J,deltaT,Tin,Tout)\n",
        "  areaTrocadores =Area(U,Tin,Tout,Ind_I,Ind_J,deltaT)\n",
        "  areaUtilidade, cargaUQ,cargaUF = Utilidades(tempAlvo,Tout,mCp)\n",
        "  cost=CustoProcesso(areaTrocadores,areaUtilidade,cargaUF,cargaUQ)\n",
        "  funr=cost\n",
        "\n",
        "  for k in range(NPAR):\n",
        "    if(Erro[k]>0):\n",
        "      funr[k]=1e99\n",
        "  funr = np.where(np.isnan(cost), 1e99, cost)\n",
        "\n",
        "  return funr,Erro"
      ],
      "execution_count": 0,
      "outputs": []
    },
    {
      "cell_type": "code",
      "metadata": {
        "id": "Dt6anZvATxzg",
        "colab_type": "code",
        "colab": {}
      },
      "source": [
        "#********************PROGRAMA PRINCIPAL*************************\n",
        "NPAR=200\n",
        "Trocas=4\n",
        "mCp=[4,2,1.5,3] #[kW/K]\n",
        "tempInicial=[453,393,523,533] #[K]\n",
        "tempAtual=np.copy(tempInicial) \n",
        "#tempAtual=[453,393,523,533] #[K]\n",
        "tempAlvo=[513,508,403,433] #[K]\n",
        "U=0.2 #[kW/(m2.K)]\n",
        "coefCustoUQ=110 #[$/(kW.ano)]\n",
        "coefCustoUF=12.2 #[$/(kW.ano)]\n",
        "\n",
        "\n",
        "\n"
      ],
      "execution_count": 0,
      "outputs": []
    },
    {
      "cell_type": "code",
      "metadata": {
        "id": "6L1ofiNr_XvB",
        "colab_type": "code",
        "colab": {}
      },
      "source": [
        "cols=12\n",
        "x=np.zeros((NPAR,cols))\n",
        "#MAX=np.array([3,2,3,2,0,1,1,1,0,0,0,0])\n",
        "#MIN=np.array([3,2,3,2,0,1,1,1,-100,-100,-100,-100])\n",
        "MAX=np.array([3,3,3,3,1,1,1,1,0,0,0,0])\n",
        "#MIN=np.array([2,2,2,2,0,0,0,0,-100,-100,-100,-100])\n",
        "MIN=np.array([2,2,2,2,0,0,0,0,-20,-20,-20,-20])\n",
        "for i in range(NPAR):\n",
        "  for j in range(cols):\n",
        "    r=np.random.random()\n",
        "    x[i,j]=r*(MAX[j]-MIN[j])+MIN[j]"
      ],
      "execution_count": 0,
      "outputs": []
    },
    {
      "cell_type": "code",
      "metadata": {
        "id": "wnFpOji2Emmg",
        "colab_type": "code",
        "colab": {}
      },
      "source": [
        "\n",
        "Ind_I,Ind_J,deltaT, Tin, Tout=buildMatriz(x) # transforma x em matriz logica e troca\n",
        "Tout,Carga,Erro=Temperatura_Carga(mCp,Ind_I,Ind_J,deltaT,Tin,Tout)\n",
        "areaUtilidade, cargaUF,cargaUQ = Utilidades(tempAlvo,Tout,mCp)\n",
        "areaTrocadores =Area(U,Tin,Tout,Ind_I,Ind_J,deltaT)\n",
        "areaUtilidade, cargaUF,cargaUQ = Utilidades(tempAlvo,Tout,mCp)\n",
        "cost=CustoProcesso(areaTrocadores,areaUtilidade,cargaUF,cargaUQ)\n",
        "Custo, Erro = FUN(x)\n"
      ],
      "execution_count": 0,
      "outputs": []
    },
    {
      "cell_type": "code",
      "metadata": {
        "id": "iKSvQ0pSeLi2",
        "colab_type": "code",
        "outputId": "1dd45a34-9b48-4e62-f79b-2a8c710e945c",
        "colab": {
          "base_uri": "https://localhost:8080/",
          "height": 901
        }
      },
      "source": [
        "print(Custo)"
      ],
      "execution_count": 12,
      "outputs": [
        {
          "output_type": "stream",
          "text": [
            "[70551.52503349 69662.65522591 64960.72545934 68197.64189919\n",
            " 68616.91651136 68393.89242612 67701.34291735 67229.31072942\n",
            " 68890.88233935 68302.8947415  63379.36404419 59728.95051483\n",
            " 72820.26624701 60982.69395082 67528.49797458 68210.75662688\n",
            " 63246.1923731  72345.47644124 64825.17027204 69237.00113836\n",
            " 70745.31531225 65610.11586004 71082.63584967 67794.85296786\n",
            " 68825.5950567  69138.88315759 69536.64278244 70907.51614566\n",
            " 64904.72845334 66493.7548874  65808.52165874 64313.86448271\n",
            " 65365.08947315 71515.22136495 68285.12887574 68542.75323513\n",
            " 69001.30528684 72225.14709265 60582.76739615 66913.76389229\n",
            " 68307.5281661  71030.81124349 69346.00964683 68235.80273941\n",
            " 65921.67869063 68555.55268883 64260.01773648 63874.7850622\n",
            " 68197.40898191 69438.11146104 67553.10097731 64102.5557115\n",
            " 65436.80780618 63609.20507081 71209.83927185 61867.18894064\n",
            " 65069.78191722 66520.13419018 66353.97591383 69666.42344712\n",
            " 72004.50963071 68017.26867475 66065.7975692  72330.29562902\n",
            " 71903.04346638 68930.30201803 72348.98797898 71650.83076108\n",
            " 66628.51149376 71838.53400951 71321.63068452 69336.31497237\n",
            " 69519.81897555 66453.27258029 66951.06972768 71373.87540714\n",
            " 70684.59399052 63036.45292904 67782.25710115 63986.31070695\n",
            " 68912.43276392 69696.75721752 72054.83144992 69447.17109416\n",
            " 65816.9594617  70484.91269023 66005.814924   71113.52998949\n",
            " 65328.80646755 65422.45121725 68289.45793609 72929.29476572\n",
            " 65755.60528479 66872.53946506 67832.24431004 61111.68074717\n",
            " 72322.39210705 71747.97514003 68578.4336499  62494.1787395\n",
            " 67168.57949255 70934.84534708 65900.23633943 67497.44084773\n",
            " 67139.10995483 63533.67205486 66852.50802849 65063.08160704\n",
            " 65861.30069646 69020.27372657 71616.12327299 70514.90284532\n",
            " 69656.59377735 66729.87146057 72332.60799164 68638.54181171\n",
            " 66787.18606814 68419.04384824 67368.55250233 65924.41946896\n",
            " 69202.30688888 67751.66665735 68970.49723841 67103.63068565\n",
            " 65560.28907911 66488.96096668 67443.96107339 71461.18055483\n",
            " 64141.64138091 68451.62962984 62729.72625051 68009.79869554\n",
            " 70277.73814517 60776.23371179 70063.68485774 67981.30560088\n",
            " 69735.308661   62641.36952375 70554.05781571 68462.40637917\n",
            " 71165.71855677 71285.09407614 68525.71540509 64708.26983811\n",
            " 67024.23712658 65558.64371599 70404.21619714 64822.86560446\n",
            " 68658.65752743 72919.87079382 61848.53782213 70823.94422473\n",
            " 68846.98415899 70337.16178557 69845.94853086 62860.20127835\n",
            " 66126.09124006 65174.9981817  69023.66814708 62856.54045196\n",
            " 62538.86601168 69469.75994696 69383.00924004 64039.8828345\n",
            " 61961.2112826  63730.59622027 56760.0292946  66083.26203096\n",
            " 70831.00376127 71000.94604048 65511.72303983 68807.25581943\n",
            " 67628.2801856  69770.19595253 66222.24828351 71071.60290534\n",
            " 64270.24281306 69964.38720434 68313.09774128 65052.87366209\n",
            " 63636.65684304 69940.59062875 68038.39864408 69902.05339436\n",
            " 64532.34203225 66346.90251395 66883.78454946 67167.55321081\n",
            " 73399.54158933 68828.96284066 71238.37923271 69161.68494903\n",
            " 65915.05717729 69579.00304228 69449.39996381 68033.58393247\n",
            " 69672.2975259  69608.47381535 68351.83315482 67808.46121707]\n"
          ],
          "name": "stdout"
        }
      ]
    },
    {
      "cell_type": "code",
      "metadata": {
        "id": "xWhfHueSnReI",
        "colab_type": "code",
        "outputId": "9e7f3d5a-fa15-49a9-b4f5-5e2d38429552",
        "colab": {
          "base_uri": "https://localhost:8080/",
          "height": 282
        }
      },
      "source": [
        "x=range(len(Custo))\n",
        "plt.plot(x,Custo)"
      ],
      "execution_count": 13,
      "outputs": [
        {
          "output_type": "execute_result",
          "data": {
            "text/plain": [
              "[<matplotlib.lines.Line2D at 0x7f9512c710f0>]"
            ]
          },
          "metadata": {
            "tags": []
          },
          "execution_count": 13
        },
        {
          "output_type": "display_data",
          "data": {
            "image/png": "[encoded data removed]",
            "text/plain": [
              "<Figure size 432x288 with 1 Axes>"
            ]
          },
          "metadata": {
            "tags": []
          }
        }
      ]
    }
  ]
}