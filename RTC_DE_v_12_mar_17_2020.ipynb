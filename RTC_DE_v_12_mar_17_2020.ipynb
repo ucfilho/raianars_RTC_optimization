{
  "nbformat": 4,
  "nbformat_minor": 0,
  "metadata": {
    "colab": {
      "name": "RTC_DE_v_12_mar_17_2020.ipynb",
      "provenance": [],
      "collapsed_sections": [],
      "include_colab_link": true
    },
    "kernelspec": {
      "name": "python3",
      "display_name": "Python 3"
    }
  },
  "cells": [
    {
      "cell_type": "markdown",
      "metadata": {
        "id": "view-in-github",
        "colab_type": "text"
      },
      "source": [
        "<a href=\"https://colab.research.google.com/github/ucfilho/raianars_RTC_optimization/blob/master/RTC_DE_v_12_mar_17_2020.ipynb\" target=\"_parent\"><img src=\"https://colab.research.google.com/assets/colab-badge.svg\" alt=\"Open In Colab\"/></a>"
      ]
    },
    {
      "cell_type": "code",
      "metadata": {
        "id": "wGzR2VpcZHYA",
        "colab_type": "code",
        "colab": {}
      },
      "source": [
        "import pandas as pd\n",
        "from scipy.optimize import differential_evolution\n",
        "import numpy as np\n",
        "import matplotlib.pyplot as plt"
      ],
      "execution_count": 0,
      "outputs": []
    },
    {
      "cell_type": "code",
      "metadata": {
        "id": "2htdoQZEvKVl",
        "colab_type": "code",
        "colab": {}
      },
      "source": [
        "# Functions used in this code\n",
        "# buildMatriz(x): return three slots (Ind_I,Ind_J,deltaT)\n",
        "#                 the function also returns the Tout, Tion\n",
        "#                 Tout and Tin temperatures of particle in each stage\n",
        "#                 Ind_I,Ind_J represents streams (hot i and cold j)\n",
        "#                 deltaT represents hot temperature changing\n",
        "# Temperatura_Carga(mCp,Ind_I,Ind_J,deltaT,Tin,Tout):\n",
        "#                 return temperatures of particles after gain or loss of energy\n",
        "#                 return heat load of particles after gain or loss of energy\n",
        "#                 return error to apply penalty (error=1 is penalty)\n",
        "# Area(U,Tin,Tout,Ind_I,Ind_J,deltaT):\n",
        "#                 return Area of heat exchanger used in heat and cold  streams\n",
        "# Utilidades(tempAlvo,Tout,mCp):\n",
        "#                 return Area of heat exchanger using utilities\n",
        "#                 return the kW of utilities used\n",
        "# CustoProcesso(Area,Utilidades,cargaUFtodas,cargaUQtodas):\n",
        "#                 return the cost composed by use of utilities and depreciation \n",
        "#                 of heat exchangers\n",
        "# FUN(x): return the cost\n",
        "#                integrate the use of all functions described above\n",
        "# Variables used in this code:\n",
        "# x: population of particles\n",
        "# NPAR: number of particles\n",
        "# Trocas: number of exchanges allowed between the streams\n",
        "# mCp=[4,2,1.5,3] #[kW/K]\n",
        "# tempInicial initial temperature in each strem (kelvin)\n",
        "# tempAlvo target of temperatures to be reached by each stream\n",
        "# cost function to be optimized\n",
        "# mCp heat capacity of stream (composed by flux multiplied by Cp)"
      ],
      "execution_count": 0,
      "outputs": []
    },
    {
      "cell_type": "code",
      "metadata": {
        "id": "MjqwkVE67u2g",
        "colab_type": "code",
        "outputId": "d6811544-ddf7-428b-fb7b-eb08d0b6df68",
        "colab": {
          "base_uri": "https://localhost:8080/",
          "height": 71
        }
      },
      "source": [
        "!git clone https://github.com/ucfilho/raianars_RTC_optimization #clonar do Github\n",
        "%cd raianars_RTC_optimization\n",
        "import de_bounds_matriz"
      ],
      "execution_count": 3,
      "outputs": [
        {
          "output_type": "stream",
          "text": [
            "fatal: destination path 'raianars_RTC_optimization' already exists and is not an empty directory.\n",
            "/content/raianars_RTC_optimization\n"
          ],
          "name": "stdout"
        }
      ]
    },
    {
      "cell_type": "code",
      "metadata": {
        "id": "QH4J60cSP2OX",
        "colab_type": "code",
        "colab": {}
      },
      "source": [
        "def buildMatriz(x):\n",
        "  global Trocas, tempInicial, tempAtual \n",
        "  NPAR=1\n",
        "  cols=len(tempInicial)\n",
        "  size=3*cols\n",
        "  x=np.array(x).reshape(1,size)\n",
        "  # print('x=');print(x)\n",
        "  Ind_I=np.zeros((NPAR,Trocas)).astype(np.int64)\n",
        "  Ind_J=np.zeros((NPAR,Trocas)).astype(np.int64)\n",
        "  Tin=np.zeros((NPAR,Trocas))\n",
        "  Tout=np.zeros((NPAR,Trocas))\n",
        "  deltaT=np.zeros((NPAR,Trocas))\n",
        "  for i in range(NPAR):\n",
        "    for j in range(Trocas):\n",
        "      #print('[i,j]=%d %d'%(i,j))\n",
        "      Ind_I[i,j]=round(x[i,j])\n",
        "      Ind_J[i,j]=round(x[i,j+Trocas])\n",
        "      deltaT[i,j]=x[i,j+2*Trocas] \n",
        "    for jj in range(cols):\n",
        "      Tin[i,jj]=tempInicial[jj]\n",
        "      Tout[i,jj]=tempAtual[jj]\n",
        "  return Ind_I,Ind_J,deltaT, Tin, Tout"
      ],
      "execution_count": 0,
      "outputs": []
    },
    {
      "cell_type": "code",
      "metadata": {
        "id": "Ha_XxG-tT7yB",
        "colab_type": "code",
        "colab": {}
      },
      "source": [
        "def Temperatura(x):\n",
        "  global Trocas, mCp,tempInicial\n",
        "  \n",
        "  NPAR=1\n",
        "  Ind_I,Ind_J,deltaT,Tin, Tout=buildMatriz(x) \n",
        "  Tatual=np.copy(np.array(tempInicial))\n",
        "\n",
        "  erro=np.zeros((NPAR)) # valor erro se torna erro=1 quando ha algum erro e vai penalizar\n",
        "  for ki in range(NPAR):\n",
        "    for kj in range(Trocas):\n",
        "      #Tin=np.copy(Tout)\n",
        "      k=kj\n",
        "      i=Ind_I[ki,kj]\n",
        "      j=Ind_J[ki,kj]\n",
        "      \n",
        "      tempSaidaQ=Tout[ki,i]+deltaT[ki,kj]\n",
        "      tempSaidaF=-mCp[kj]*deltaT[ki,kj]/(mCp[j])+Tout[ki,j]\n",
        "      flag=0 # flag : indica que nao entra no teste logico\n",
        "      # usei flag no lugar q ifs pq a identacao ficou melhor assim\n",
        "      if(Tout[ki,i] > Tout[ki,j]): #Tquente maior Tfria: vaores atuais\n",
        "        if(tempSaidaQ > tempSaidaF): #Tquente maior Tfria: saidas\n",
        "          flag=1\n",
        "      if(flag>0):\n",
        "        Tout[ki,i]=tempSaidaQ\n",
        "        Tout[ki,j]=tempSaidaF\n",
        "      else:\n",
        "        erro[ki]=1\n",
        "\n",
        "  return Tout,erro"
      ],
      "execution_count": 0,
      "outputs": []
    },
    {
      "cell_type": "code",
      "metadata": {
        "id": "UJGjsc_haGya",
        "colab_type": "code",
        "colab": {}
      },
      "source": [
        "def Area(x):\n",
        "\n",
        "  global mCp,tempAlvo,tempInicial,Trocas,U\n",
        "  \n",
        "  NPAR=1\n",
        "  \n",
        "  Area=[]\n",
        "\n",
        "  Ind_I,Ind_J,deltaT,Tin, Tout=buildMatriz(x) \n",
        "  Tatual=np.copy(np.array(tempInicial))\n",
        "\n",
        "  rows=Trocas \n",
        "  cols=len(mCp)\n",
        "\n",
        "  Area_Particula=[]\n",
        "\n",
        "  for k in range(Trocas):\n",
        "\n",
        "    i=Ind_I[0,k]\n",
        "    j=Ind_J[0,k]\n",
        "    tempSaidaQ=Tatual[i]+deltaT[0,k]\n",
        "    tempSaidaF=-deltaT[0,k]*mCp[i]/(mCp[j])+Tatual[j]\n",
        "\n",
        "    Told_i=Tatual[i]\n",
        "    Told_j=Tatual[j]\n",
        "\n",
        "    Tatual[i]=np.copy(tempSaidaQ)\n",
        "    Tatual[j]=np.copy(tempSaidaF)\n",
        "    deltaT1=Tatual[i]-tempSaidaF\n",
        "    deltaT2=tempSaidaQ-Tatual[j]\n",
        "    try:\n",
        "      A=(deltaT1-deltaT2)\n",
        "      B=np.log((deltaT1/deltaT2))\n",
        "      deltaTMediaLog=A/B\n",
        "    except:\n",
        "      deltaTMediaLog=1e99\n",
        "  \n",
        "    if(deltaTMediaLog==1e99):\n",
        "      AreaCalc=1e99\n",
        "    else:\n",
        "      AreaCalc=abs(deltaT[0,k]*mCp[i]/(U*deltaTMediaLog))\n",
        "\n",
        "    if(Told_i==Tatual[i]):\n",
        "      AreaCalc=0\n",
        "\n",
        "    if(Told_j==Tatual[j]):\n",
        "      AreaCalc=0\n",
        "\n",
        "      Area_Particula.append(AreaCalc)\n",
        "      \n",
        "  Area.append(Area_Particula)\n",
        "\n",
        "  return Area"
      ],
      "execution_count": 0,
      "outputs": []
    },
    {
      "cell_type": "code",
      "metadata": {
        "id": "oJ7p1UbEHs4c",
        "colab_type": "code",
        "colab": {}
      },
      "source": [
        "def Utilidades(tempAlvo,Tout,mCp):\n",
        "\n",
        "  cols=len(mCp)\n",
        "  NPAR=1\n",
        "\n",
        "  \n",
        "  '''\n",
        "  caso I cita TUQin=553 e TQout=552, TUFin=303 TUFout=353\n",
        "  '''\n",
        "  \n",
        "  TUQin=553\n",
        "  TUQout=552\n",
        "  TUFin=303 \n",
        "  TUFout=353\n",
        "  \n",
        "  Areas=[]\n",
        "  cargaUQtodas=[]\n",
        "  cargaUFtodas=[]\n",
        "\n",
        "  for ki in range(NPAR):\n",
        "    areaTrocador=[]\n",
        "    cargaUQ=0\n",
        "    cargaUF=0\n",
        "    for j in range(cols):\n",
        "      delta=tempAlvo[j]-Tout[ki,j]\n",
        "      if(delta>0):#usa UQ\n",
        "        cargaUQ=cargaUQ+mCp[j]*delta\n",
        "        deltaT1=(TUQin-tempAlvo[j])\n",
        "        deltaT2=(TUQout-Tout[ki,j])\n",
        "\n",
        "        try:\n",
        "          A=deltaT1-deltaT2\n",
        "          B=np.log(deltaT1/deltaT2)\n",
        "          deltaTMediaLog=A/B\n",
        "        except:\n",
        "          deltaTMediaLog=1e99\n",
        "\n",
        "        if(deltaTMediaLog==1e99):\n",
        "          areaTrocador.append(1e99)\n",
        "        else:\n",
        "          areaTrocador.append((abs(mCp[j]*(delta)/(U*deltaTMediaLog))))\n",
        "\n",
        "      elif(delta==0):#nao usa UF e UQ\n",
        "        deltaTMediaLog=0\n",
        "        areaTrocador.append(0) \n",
        "\n",
        "      else:#usa UF\n",
        "        deltaT1=(Tout[ki,j]-TUFout)\n",
        "        deltaT2=(tempAlvo[j]-TUFin)     \n",
        "        cargaUF=cargaUF+mCp[j]*(-delta)\n",
        "\n",
        "        #UF -> água resfriada -> entra a 303K e sai a 353K\n",
        "        try:\n",
        "          A=deltaT1-deltaT2\n",
        "          B=np.log(deltaT1/deltaT2)\n",
        "          deltaTMediaLog=A/B\n",
        "        except:\n",
        "          deltaTMediaLog=1e99\n",
        "        \n",
        "        if(deltaTMediaLog==1e99):\n",
        "          areaTrocador.append(1e99)\n",
        "        else:\n",
        "          areaTrocador.append((abs(mCp[j]*(-delta)/(U*deltaTMediaLog))))\n",
        "\n",
        "    cargaUQtodas.append(cargaUQ)\n",
        "    cargaUFtodas.append(cargaUF)\n",
        "\n",
        "    Areas.append(areaTrocador)\n",
        "\n",
        "  return Areas, cargaUQtodas,cargaUFtodas \n"
      ],
      "execution_count": 0,
      "outputs": []
    },
    {
      "cell_type": "code",
      "metadata": {
        "id": "_vAVl672mXZb",
        "colab_type": "code",
        "colab": {}
      },
      "source": [
        "def CustoProcesso(Area,Utilidades,cargaUFtodas,cargaUQtodas):\n",
        "  global coefCustoUQ,coefCustoUF\n",
        "  \n",
        "  NPAR=1\n",
        "\n",
        "  cost=np.zeros((NPAR))\n",
        "  for i in range(NPAR):\n",
        "    cargaUQ=cargaUQtodas[i]\n",
        "    cargaUF=cargaUFtodas[i]\n",
        "    areaTrocadores=Area[i]\n",
        "    areaUtilidades=Utilidades[i]\n",
        "    costTrocadores=0\n",
        "    for it in areaTrocadores:\n",
        "      for wii in areaUtilidades:\n",
        "        if(it<1e99):\n",
        "          if(wii<1e99):\n",
        "            costTrocadores=costTrocadores+300*(it**0.5+wii**0.5)\n",
        "          else:\n",
        "            costTrocadores=1e99\n",
        "            break\n",
        "    costUQ=coefCustoUQ*cargaUQ\n",
        "    costUF=coefCustoUF*cargaUF\n",
        "    \n",
        "    if(costTrocadores==1e99):\n",
        "      cost[i]=1e99\n",
        "    else:\n",
        "      cost[i]=costUQ+costUF+costTrocadores\n",
        "      \n",
        "  return cost"
      ],
      "execution_count": 0,
      "outputs": []
    },
    {
      "cell_type": "code",
      "metadata": {
        "id": "Xp_PM3d9CDTA",
        "colab_type": "code",
        "colab": {}
      },
      "source": [
        "def Numb(x):\n",
        "  global mCp,tempAlvo,tempInicial,Trocas\n",
        "\n",
        "  Ind_I,Ind_J,deltaT,Tin, Tout=buildMatriz(x) # transforma x em matriz logica e troca\n",
        "  Tatual=np.copy(np.array(tempInicial))\n",
        "\n",
        "  rows=Trocas \n",
        "  cols=len(mCp)\n",
        "  Ttrocas=np.zeros((rows+4,cols))# feito em quaduplicata so para melhorar o visual\n",
        "  for i in range(2):\n",
        "    for j in range(cols):\n",
        "      Ttrocas[i,j]=np.copy(Tatual[j])\n",
        "  cont=1\n",
        "  #Ttrocas.append(Tatual)\n",
        "  #Ttrocas.append(Tatual) # feito em duplicata so para melhorar o visual\n",
        "  for k in range(Trocas):\n",
        "    cont=cont+1\n",
        "    i=Ind_I[0,k]\n",
        "    j=Ind_J[0,k]\n",
        "    tempSaidaQ=Tatual[i]+deltaT[0,k]\n",
        "    tempSaidaF=-deltaT[0,k]*mCp[i]/(mCp[j])+Tatual[j]\n",
        "    Tatual[i]=np.copy(tempSaidaQ)\n",
        "    Tatual[j]=np.copy(tempSaidaF)\n",
        "\n",
        "    for jj in range(cols):\n",
        "      Ttrocas[cont,jj]=Tatual[jj]  \n",
        "\n",
        "\n",
        "  for jj in range(cols): # feito em duplicata so para melhorar o visual\n",
        "    Ttrocas[cont+1,jj]=tempAlvo[jj]\n",
        "    Ttrocas[cont+2,jj]=tempAlvo[jj]\n",
        "\n",
        "  \n",
        "  return Ttrocas\n"
      ],
      "execution_count": 0,
      "outputs": []
    },
    {
      "cell_type": "code",
      "metadata": {
        "id": "lmPfZ7arakM1",
        "colab_type": "code",
        "colab": {}
      },
      "source": [
        "#FUN calcula o TAC para um determinado arranjo\n",
        "#  cada calculo é feito em uma funcao a parte Fun usa todas funcoes \n",
        "\n",
        "def FUN(x):\n",
        "\n",
        "  global mCp,tempAtual,tempAlvo,tempInicial,U,coefCustoUQ,coefCustoUF\n",
        "  \n",
        "  NPAR=1\n",
        "  \n",
        "  funr=np.zeros((NPAR))\n",
        "  cols=len(mCp)\n",
        "  Ind_I,Ind_J,deltaT, Tin, Tout=buildMatriz(x) # transforma x em matriz logica e troca\n",
        "  Tout, Erro=Temperatura(x)\n",
        "  areaTrocadores =Area(x)\n",
        "  areaUtilidade, cargaUQ,cargaUF = Utilidades(tempAlvo,Tout,mCp)\n",
        "  cost=CustoProcesso(areaTrocadores,areaUtilidade,cargaUF,cargaUQ)\n",
        "  funr=cost\n",
        "\n",
        "  for k in range(NPAR):\n",
        "    if(Erro[k]>0):\n",
        "      funr[k]=1e99\n",
        "  funr = np.where(np.isnan(cost), 1e99, cost)\n",
        "  \n",
        "  # print(funr)\n",
        "\n",
        "  return funr "
      ],
      "execution_count": 0,
      "outputs": []
    },
    {
      "cell_type": "code",
      "metadata": {
        "id": "Dt6anZvATxzg",
        "colab_type": "code",
        "colab": {}
      },
      "source": [
        "#********************PROGRAMA PRINCIPAL*************************\n",
        "\n",
        "Trocas=4\n",
        "mCp=[4,2,1.5,3] #[kW/K]\n",
        "tempInicial=[453.0,393.0,523.0,533.0] #[K]\n",
        "tempAtual=np.copy(tempInicial) \n",
        "#tempAtual=[453,393,523,533] #[K]\n",
        "tempAlvo=[513.0,508.0,403.0,433.0] #[K]\n",
        "U=0.2 #[kW/(m2.K)]\n",
        "coefCustoUQ=110 #[$/(kW.ano)]\n",
        "coefCustoUF=12.2 #[$/(kW.ano)]\n",
        "\n",
        "\n",
        "\n",
        "\n",
        "\n",
        "#MAX=np.array([3,3,3,3,1,1,1,1,0,0,0,0])\n",
        "#MIN=np.array([2,2,2,2,0,0,0,0,-100,-100,-100,-100])\n",
        "MAX=np.array([3,3,3,3,3,3,3,3,0,0,0,0])\n",
        "MIN=np.array([0,0,0,0,0,0,0,0,-100,-100,-100,-100])\n",
        "#MAX=np.array([3,2,3,2,1,1,1,1,0,0,0,0])\n",
        "#MIN=np.array([3,2,3,2,1,1,1,1,-100,-100,-100,-100])\n",
        "#MAX=np.array([3,3,3,3,1,1,1,1,0,0,0,0])\n",
        "#MIN=np.array([2,2,2,2,0,0,0,0,-100,-100,-100,-100])\n",
        "#MIN=np.array([2,2,2,2,0,0,0,0,-40,-40,-40,-40])\n",
        "\n",
        "\n",
        "\n",
        "\n",
        "\n",
        "bounds=[]\n",
        "for k in range(len(MAX)):\n",
        "  bounds.append((MIN[k],MAX[k]))\n",
        "\n",
        "\n",
        "# print(bounds)\n",
        "\n"
      ],
      "execution_count": 0,
      "outputs": []
    },
    {
      "cell_type": "code",
      "metadata": {
        "id": "98ebmeBd6e5L",
        "colab_type": "code",
        "outputId": "c0614037-7c79-4f7f-8ea9-f02f403025b3",
        "colab": {
          "base_uri": "https://localhost:8080/",
          "height": 105
        }
      },
      "source": [
        "fobj=FUN\n",
        "mut=0.5\n",
        "crossp=0.5\n",
        "NPAR=200\n",
        "its=2000\n",
        "cols=12\n",
        "x=np.zeros((NPAR,cols))\n",
        "for i in range(NPAR):\n",
        "  for j in range(cols):\n",
        "    r=np.random.random()\n",
        "    x[i,j]=r*(MAX[j]-MIN[j])+MIN[j]\n",
        "\n",
        "x,BEST,FOBEST,XY,BEST_XY=de_bounds_matriz.de(bounds, mut, crossp, \n",
        "                                             NPAR, its,fobj,x)"
      ],
      "execution_count": 12,
      "outputs": [
        {
          "output_type": "stream",
          "text": [
            "/usr/local/lib/python3.6/dist-packages/ipykernel_launcher.py:34: RuntimeWarning: invalid value encountered in double_scalars\n",
            "/usr/local/lib/python3.6/dist-packages/ipykernel_launcher.py:33: RuntimeWarning: divide by zero encountered in log\n",
            "/usr/local/lib/python3.6/dist-packages/ipykernel_launcher.py:41: RuntimeWarning: divide by zero encountered in double_scalars\n",
            "/usr/local/lib/python3.6/dist-packages/ipykernel_launcher.py:33: RuntimeWarning: invalid value encountered in double_scalars\n"
          ],
          "name": "stderr"
        }
      ]
    },
    {
      "cell_type": "code",
      "metadata": {
        "id": "aIEq0IrCBVPm",
        "colab_type": "code",
        "outputId": "1c2a82d6-f536-40ba-c8f9-68fe2eaa78ce",
        "colab": {
          "base_uri": "https://localhost:8080/",
          "height": 51
        }
      },
      "source": [
        "print('FOBEST=');print(FOBEST)"
      ],
      "execution_count": 13,
      "outputs": [
        {
          "output_type": "stream",
          "text": [
            "FOBEST=\n",
            "[12932.44441465]\n"
          ],
          "name": "stdout"
        }
      ]
    },
    {
      "cell_type": "code",
      "metadata": {
        "id": "dKx9C1kcDLph",
        "colab_type": "code",
        "outputId": "21c04818-6004-40f2-8558-6dadf6c1ad1d",
        "colab": {
          "base_uri": "https://localhost:8080/",
          "height": 68
        }
      },
      "source": [
        "print(BEST)"
      ],
      "execution_count": 14,
      "outputs": [
        {
          "output_type": "stream",
          "text": [
            "[  2.89757434   2.41063321   2.76460189   1.92940041   0.0646399\n",
            "   0.           1.12703653   0.57516112 -39.88577381 -19.97161638\n",
            " -56.96403126 -26.90442407]\n"
          ],
          "name": "stdout"
        }
      ]
    },
    {
      "cell_type": "code",
      "metadata": {
        "id": "jbv10607IhAi",
        "colab_type": "code",
        "outputId": "7b0e3701-a1e5-437a-c638-0f13e4a0303b",
        "colab": {
          "base_uri": "https://localhost:8080/",
          "height": 68
        }
      },
      "source": [
        "Ind_I,Ind_J,deltaT, Tin, Tout=buildMatriz(BEST)\n",
        "print(Ind_I)\n",
        "print(Ind_J)\n",
        "print(deltaT)\n"
      ],
      "execution_count": 15,
      "outputs": [
        {
          "output_type": "stream",
          "text": [
            "[[3 2 3 2]]\n",
            "[[0 0 1 1]]\n",
            "[[-39.88577381 -19.97161638 -56.96403126 -26.90442407]]\n"
          ],
          "name": "stdout"
        }
      ]
    },
    {
      "cell_type": "code",
      "metadata": {
        "id": "h7VYqfu-Ee7-",
        "colab_type": "code",
        "outputId": "97246eff-dd88-448a-d643-6cf37f528f2c",
        "colab": {
          "base_uri": "https://localhost:8080/",
          "height": 171
        }
      },
      "source": [
        "Busca=Numb(BEST)\n",
        "print(pd.DataFrame(Busca))\n",
        "df=pd.DataFrame(Busca)"
      ],
      "execution_count": 16,
      "outputs": [
        {
          "output_type": "stream",
          "text": [
            "            0           1           2           3\n",
            "0  453.000000  393.000000  523.000000  533.000000\n",
            "1  453.000000  393.000000  523.000000  533.000000\n",
            "2  482.914330  393.000000  523.000000  493.114226\n",
            "3  490.403686  393.000000  503.028384  493.114226\n",
            "4  490.403686  478.446047  503.028384  436.150195\n",
            "5  490.403686  498.624365  476.123960  436.150195\n",
            "6  513.000000  508.000000  403.000000  433.000000\n",
            "7  513.000000  508.000000  403.000000  433.000000\n"
          ],
          "name": "stdout"
        }
      ]
    },
    {
      "cell_type": "code",
      "metadata": {
        "id": "ZTCkSM3Vfh5X",
        "colab_type": "code",
        "outputId": "43c4172c-bb96-4dec-f603-8084321734bc",
        "colab": {
          "base_uri": "https://localhost:8080/",
          "height": 171
        }
      },
      "source": [
        "print(df)\n"
      ],
      "execution_count": 17,
      "outputs": [
        {
          "output_type": "stream",
          "text": [
            "            0           1           2           3\n",
            "0  453.000000  393.000000  523.000000  533.000000\n",
            "1  453.000000  393.000000  523.000000  533.000000\n",
            "2  482.914330  393.000000  523.000000  493.114226\n",
            "3  490.403686  393.000000  503.028384  493.114226\n",
            "4  490.403686  478.446047  503.028384  436.150195\n",
            "5  490.403686  498.624365  476.123960  436.150195\n",
            "6  513.000000  508.000000  403.000000  433.000000\n",
            "7  513.000000  508.000000  403.000000  433.000000\n"
          ],
          "name": "stdout"
        }
      ]
    },
    {
      "cell_type": "code",
      "metadata": {
        "id": "cw8YfB07MsGe",
        "colab_type": "code",
        "outputId": "68f21dbf-2b9a-41a3-dacc-809c0b410103",
        "colab": {
          "base_uri": "https://localhost:8080/",
          "height": 300
        }
      },
      "source": [
        "\n",
        "Streams=4\n",
        "Change=range(Streams+4) # Streams+4 so para ficar com um visual melhor\n",
        "for k in range(Streams):\n",
        "  plt.plot(Change,df.iloc[:,k])\n",
        "plt.xlabel('Stages')\n",
        "plt.ylabel('Temperature (K)')\n"
      ],
      "execution_count": 18,
      "outputs": [
        {
          "output_type": "execute_result",
          "data": {
            "text/plain": [
              "Text(0, 0.5, 'Temperature (K)')"
            ]
          },
          "metadata": {
            "tags": []
          },
          "execution_count": 18
        },
        {
          "output_type": "display_data",
          "data": {
            "image/png": "[encoded data removed]",
            "text/plain": [
              "<Figure size 432x288 with 1 Axes>"
            ]
          },
          "metadata": {
            "tags": []
          }
        }
      ]
    },
    {
      "cell_type": "code",
      "metadata": {
        "id": "zvWG_MEUavUO",
        "colab_type": "code",
        "outputId": "e9ee675f-8bd2-46a0-deec-d4cf7c24d7f6",
        "colab": {
          "base_uri": "https://localhost:8080/",
          "height": 205
        }
      },
      "source": [
        "print(tempInicial)\n",
        "print(tempAlvo)\n",
        "print(df)"
      ],
      "execution_count": 19,
      "outputs": [
        {
          "output_type": "stream",
          "text": [
            "[453.0, 393.0, 523.0, 533.0]\n",
            "[513.0, 508.0, 403.0, 433.0]\n",
            "            0           1           2           3\n",
            "0  453.000000  393.000000  523.000000  533.000000\n",
            "1  453.000000  393.000000  523.000000  533.000000\n",
            "2  482.914330  393.000000  523.000000  493.114226\n",
            "3  490.403686  393.000000  503.028384  493.114226\n",
            "4  490.403686  478.446047  503.028384  436.150195\n",
            "5  490.403686  498.624365  476.123960  436.150195\n",
            "6  513.000000  508.000000  403.000000  433.000000\n",
            "7  513.000000  508.000000  403.000000  433.000000\n"
          ],
          "name": "stdout"
        }
      ]
    }
  ]
}